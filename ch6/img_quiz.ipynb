{
 "cells": [
  {
   "metadata": {},
   "cell_type": "markdown",
   "source": "# 이미지를 활용해 퀴즈 만들기",
   "id": "227e3ea57b6eeb51"
  },
  {
   "metadata": {},
   "cell_type": "markdown",
   "source": "### API Key Load",
   "id": "38b2cff4f8ef1b50"
  },
  {
   "cell_type": "code",
   "id": "initial_id",
   "metadata": {
    "collapsed": true,
    "ExecuteTime": {
     "end_time": "2025-10-13T19:20:56.142728Z",
     "start_time": "2025-10-13T19:20:55.727475Z"
    }
   },
   "source": [
    "from openai import OpenAI\n",
    "from dotenv import load_dotenv\n",
    "import os\n",
    "\n",
    "load_dotenv()\n",
    "api_key = os.getenv(\"OPEN_API_KEY\")  # 환경 변수에서 API 키 가져오기\n",
    "client = OpenAI(api_key=api_key)  # OpenAI 클라이언트의 인스턴스 생성"
   ],
   "outputs": [],
   "execution_count": 1
  },
  {
   "metadata": {},
   "cell_type": "markdown",
   "source": "### base64 인코딩 함수 정의",
   "id": "e23b62d87eb8e30d"
  },
  {
   "metadata": {
    "ExecuteTime": {
     "end_time": "2025-10-13T19:20:57.351227Z",
     "start_time": "2025-10-13T19:20:57.348213Z"
    }
   },
   "cell_type": "code",
   "source": [
    "import base64\n",
    "\n",
    "def encode_image(image_path):\n",
    "    with open(image_path, \"rb\") as image_file:\n",
    "        return base64.b64encode(image_file.read()).decode(\"utf-8\")"
   ],
   "id": "3e16b08e48990e42",
   "outputs": [],
   "execution_count": 2
  },
  {
   "metadata": {},
   "cell_type": "markdown",
   "source": [
    "### 영어 퀴즈 생성 함수 정의\n",
    "- 원하는 영어 문제 결과가 포함되지 않을 수 있어서 여러번 시도할 수 있도록 재귀 호출\n",
    "- 종료 조건 : 최대 시도 회수 도달"
   ],
   "id": "806f64ea1df404a5"
  },
  {
   "metadata": {
    "ExecuteTime": {
     "end_time": "2025-10-13T19:20:58.770798Z",
     "start_time": "2025-10-13T19:20:58.766978Z"
    }
   },
   "cell_type": "code",
   "source": [
    "def image_quiz(image_path, n_trial=0, max_trial=3):\n",
    "    if n_trial >= max_trial: # 최대 시도 회수에 도달하면 포기\n",
    "        raise Exception(\"Failed to generate a quiz.\")\n",
    "\n",
    "    base64_image = encode_image(image_path) # 이미지를 base64로 인코딩\n",
    "\n",
    "    quiz_prompt = \"\"\"\n",
    "    제공된 이미지를 바탕으로, 다음과 같은 양식으로 퀴즈를 만들어주세요.\n",
    "    정답은 1~4 중 하나만 해당하도록 출제하세요.\n",
    "    토익 리스닝 문제 스타일로 문제를 만들어주세요.\n",
    "    아래는 예시입니다.\n",
    "    ----- 예시 -----\n",
    "\n",
    "    Q: 다음 이미지에 대한 설명 중 옳지 않은 것은 무엇인가요?\n",
    "    - (1) 베이커리에서 사람들이 빵을 사고 있는 모습이 담겨 있습니다.\n",
    "    - (2) 맨 앞에 서 있는 사람은 빨간색 셔츠를 입고 있습니다.\n",
    "    - (3) 기차를 타기 위해 줄을 서 있는 사람들이 있습니다.\n",
    "    - (4) 점원은 노란색 티셔츠를 입고 있습니다.\n",
    "\n",
    "    Listening: Which of the following descriptions of the image is incorrect?\n",
    "    - (1) It shows people buying bread at a bakery.\n",
    "    - (2) The person standing at the front is wearing a red shirt.\n",
    "    - (3) There are people lining up to take a train.\n",
    "    - (4) The clerk is wearing a yellow T-shirt.\n",
    "\n",
    "    정답: (4) 점원은 노란색 티셔츠가 아닌 파란색 티셔츠를 입고 있습니다.\n",
    "    (주의: 정답은 1~4 중 하나만 선택되도록 출제하세요.)\n",
    "    ======\n",
    "    \"\"\"\n",
    "\n",
    "    messages = [\n",
    "        {\n",
    "            \"role\": \"user\",\n",
    "            \"content\": [\n",
    "                {\"type\": \"text\", \"text\": quiz_prompt},\n",
    "                {\n",
    "                    \"type\": \"image_url\",\n",
    "                    \"image_url\": {\n",
    "                        \"url\": f\"data:image/jpeg;base64,{base64_image}\",\n",
    "                    },\n",
    "                },\n",
    "            ],\n",
    "        }\n",
    "    ]\n",
    "\n",
    "    try:\n",
    "        response = client.chat.completions.create(\n",
    "            model=\"gpt-4o\",  # 응답 생성에 사용할 모델 지정\n",
    "            messages=messages # 대화 기록을 입력으로 전달\n",
    "        )\n",
    "    except Exception as e:\n",
    "        print(\"failed\\n\" + e)\n",
    "        return image_quiz(image_path, n_trial+1)\n",
    "\n",
    "    content = response.choices[0].message.content\n",
    "\n",
    "    if \"Listening:\" in content:\n",
    "        return content, True\n",
    "    else:\n",
    "        return image_quiz(image_path, n_trial+1)"
   ],
   "id": "4a5119009f251c88",
   "outputs": [],
   "execution_count": 3
  },
  {
   "metadata": {
    "ExecuteTime": {
     "end_time": "2025-10-13T19:22:22.949647Z",
     "start_time": "2025-10-13T19:21:22.737500Z"
    }
   },
   "cell_type": "code",
   "source": [
    "from glob import glob\n",
    "import json\n",
    "\n",
    "txt = '' # 문제들을 계속 붙여 나가기 위해 빈 문자열 선언\n",
    "eng_dict = []\n",
    "no = 1 # 문제 번호를 위해 선언\n",
    "\n",
    "for g in glob('./data/quiz/*.jpg'):\n",
    "    print(g)\n",
    "    quiz, is_succeed = image_quiz(g)\n",
    "\n",
    "    if not is_succeed:\n",
    "        continue\n",
    "\n",
    "\n",
    "    divider = f'## 문제 {no}\\n\\n'\n",
    "    print(divider)\n",
    "\n",
    "    txt += divider\n",
    "    # 파일명 추출해 이미지 링크 만들기\n",
    "    filename = os.path.basename(g) # 마크다운에 표시할 이미지 파일 경로 설정\n",
    "    txt += f'![image]({filename})\\n\\n'\n",
    "\n",
    "    # 문제 추가\n",
    "    print(quiz)\n",
    "    txt += quiz + '\\n\\n---------------------\\n\\n'\n",
    "\n",
    "    # 마크다운 파일로 저장\n",
    "    with open('./data/quiz/image_quiz_eng.md', 'w', encoding='utf-8') as f:\n",
    "        f.write(txt)\n",
    "\n",
    "    # 영어 문제만 추출\n",
    "    eng = quiz.split('Listening: ')[1].split('정답:')[0].strip()\n",
    "\n",
    "    eng_dict.append({\n",
    "        'no': no,\n",
    "        'eng': eng,\n",
    "        'img': filename\n",
    "    })\n",
    "\n",
    "    # json 파일로 저장\n",
    "    with open('./data/quiz/image_quiz_eng.json', 'w', encoding='utf-8') as f:\n",
    "        json.dump(eng_dict, f, ensure_ascii=False, indent=4)\n",
    "\n",
    "    no += 1 # 문제 번호 증가"
   ],
   "id": "1b94a0282bf44ed6",
   "outputs": [
    {
     "name": "stdout",
     "output_type": "stream",
     "text": [
      "./data/quiz/bike.jpg\n",
      "## 문제 1\n",
      "\n",
      "\n",
      "Q: 다음 이미지에 대한 설명 중 옳지 않은 것은 무엇인가요?\n",
      "\n",
      "- (1) 건물 앞에는 많은 오토바이가 주차되어 있습니다.\n",
      "- (2) 도로에는 차가 여러 대 지나가고 있습니다.\n",
      "- (3) 건물은 클래식한 외관을 가지고 있습니다.\n",
      "- (4) 나무들이 건물을 따라 늘어서 있습니다.\n",
      "\n",
      "Listening: Which of the following descriptions of the image is incorrect?\n",
      "\n",
      "- (1) There are many motorcycles parked in front of the building.\n",
      "- (2) Several cars are passing on the road.\n",
      "- (3) The building has a classical facade.\n",
      "- (4) Trees are lined up along the building.\n",
      "\n",
      "정답: (2) 도로에는 차가 여러 대 지나가고 있지 않습니다.\n",
      "./data/quiz/khf2025.jpg\n",
      "## 문제 2\n",
      "\n",
      "\n",
      "Q: 다음 이미지에 대한 설명 중 옳지 않은 것은 무엇인가요?\n",
      "\n",
      "- (1) 두 명의 발표자가 무대에 서 있습니다.\n",
      "- (2) 발표하는 프레젠테이션은 \"Healthcare EcoSystem\"에 관한 것입니다.\n",
      "- (3) 청중들이 테이블에 앉아 발표를 듣고 있습니다.\n",
      "- (4) \"2025 메디컬 AI 이노베이션\"이라는 문구가 파란색으로 쓰여 있습니다.\n",
      "\n",
      "Listening: Which of the following descriptions of the image is incorrect?\n",
      "\n",
      "- (1) Two presenters are standing on the stage.\n",
      "- (2) The presentation is about the \"Healthcare EcoSystem.\"\n",
      "- (3) The audience is seated at tables listening to the presentation.\n",
      "- (4) The phrase \"2025 Medical AI Innovation\" is written in blue.\n",
      "\n",
      "정답: (4) \"2025 메디컬 AI 이노베이션\"이라는 문구는 빨간색으로 쓰여 있습니다.\n",
      "./data/quiz/meat.jpg\n",
      "## 문제 3\n",
      "\n",
      "\n",
      "Q: 다음 이미지에 대한 설명 중 옳지 않은 것은 무엇인가요?\n",
      "- (1) 고기가 계단식으로 진열되어 있습니다.\n",
      "- (2) 왼쪽에서 사람이 접시를 들고 있습니다.\n",
      "- (3) 배경에 음료수 기계가 보입니다.\n",
      "- (4) 진열된 고기가 다진 고기 형태입니다.\n",
      "\n",
      "Listening: Which of the following descriptions of the image is incorrect?\n",
      "- (1) The meat is displayed in a stair-like arrangement.\n",
      "- (2) A person is holding a plate on the left.\n",
      "- (3) There is a drink machine in the background.\n",
      "- (4) The displayed meat is in minced form.\n",
      "\n",
      "정답: (4) 진열된 고기는 슬라이스 형태지, 다진 고기 형태는 아닙니다.\n",
      "./data/quiz/dumpling.jpg\n",
      "## 문제 4\n",
      "\n",
      "\n",
      "Q: 다음 이미지에 대한 설명 중 옳지 않은 것은 무엇인가요?\n",
      "- (1) 주방 직원들이 모자와 마스크를 착용하고 있습니다.\n",
      "- (2) 직원들이 요리를 준비하고 있는 장면입니다.\n",
      "- (3) 벽에 빨간색 글씨로 쓰인 간판이 보입니다.\n",
      "- (4) 직원들은 모두 검은색 셔츠를 입고 있습니다.\n",
      "\n",
      "Listening: Which of the following descriptions of the image is incorrect?\n",
      "- (1) The kitchen staff are wearing hats and masks.\n",
      "- (2) It shows staff preparing food.\n",
      "- (3) There's a sign with red lettering on the wall.\n",
      "- (4) All the staff are wearing black shirts.\n",
      "\n",
      "정답: (4) 직원들은 모두 검은색 셔츠가 아닌 흰색 셔츠를 입고 있습니다.\n"
     ]
    }
   ],
   "execution_count": 6
  }
 ],
 "metadata": {
  "kernelspec": {
   "display_name": "Python 3",
   "language": "python",
   "name": "python3"
  },
  "language_info": {
   "codemirror_mode": {
    "name": "ipython",
    "version": 2
   },
   "file_extension": ".py",
   "mimetype": "text/x-python",
   "name": "python",
   "nbconvert_exporter": "python",
   "pygments_lexer": "ipython2",
   "version": "2.7.6"
  }
 },
 "nbformat": 4,
 "nbformat_minor": 5
}
